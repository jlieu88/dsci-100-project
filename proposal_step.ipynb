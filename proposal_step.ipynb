{
 "cells": [
  {
   "cell_type": "code",
   "execution_count": 67,
   "id": "210fda69",
   "metadata": {},
   "outputs": [],
   "source": [
    "library(tidyverse)\n",
    "library(repr)\n",
    "library(tidymodels)"
   ]
  },
  {
   "cell_type": "code",
   "execution_count": 174,
   "id": "f98a5983",
   "metadata": {},
   "outputs": [
    {
     "name": "stderr",
     "output_type": "stream",
     "text": [
      "\u001b[1mRows: \u001b[22m\u001b[34m303\u001b[39m \u001b[1mColumns: \u001b[22m\u001b[34m15\u001b[39m\n",
      "\u001b[36m──\u001b[39m \u001b[1mColumn specification\u001b[22m \u001b[36m────────────────────────────────────────────────────────\u001b[39m\n",
      "\u001b[1mDelimiter:\u001b[22m \",\"\n",
      "\u001b[31mchr\u001b[39m  (2): ca, thal\n",
      "\u001b[32mdbl\u001b[39m (13): index, age, sex, cp, trestbps, chol, fbs, restecg, thalach, exang,...\n",
      "\n",
      "\u001b[36mℹ\u001b[39m Use `spec()` to retrieve the full column specification for this data.\n",
      "\u001b[36mℹ\u001b[39m Specify the column types or set `show_col_types = FALSE` to quiet this message.\n",
      "\u001b[1mRows: \u001b[22m\u001b[34m123\u001b[39m \u001b[1mColumns: \u001b[22m\u001b[34m15\u001b[39m\n",
      "\u001b[36m──\u001b[39m \u001b[1mColumn specification\u001b[22m \u001b[36m────────────────────────────────────────────────────────\u001b[39m\n",
      "\u001b[1mDelimiter:\u001b[22m \",\"\n",
      "\u001b[31mchr\u001b[39m (9): trestbps, fbs, restecg, thalach, exang, oldpeak, slope, ca, thal\n",
      "\u001b[32mdbl\u001b[39m (6): index, age, sex, cp, chol, num\n",
      "\n",
      "\u001b[36mℹ\u001b[39m Use `spec()` to retrieve the full column specification for this data.\n",
      "\u001b[36mℹ\u001b[39m Specify the column types or set `show_col_types = FALSE` to quiet this message.\n",
      "\u001b[1mRows: \u001b[22m\u001b[34m200\u001b[39m \u001b[1mColumns: \u001b[22m\u001b[34m15\u001b[39m\n",
      "\u001b[36m──\u001b[39m \u001b[1mColumn specification\u001b[22m \u001b[36m────────────────────────────────────────────────────────\u001b[39m\n",
      "\u001b[1mDelimiter:\u001b[22m \",\"\n",
      "\u001b[31mchr\u001b[39m (9): trestbps, chol, fbs, thalach, exang, oldpeak, slope, ca, thal\n",
      "\u001b[32mdbl\u001b[39m (6): index, age, sex, cp, restecg, num\n",
      "\n",
      "\u001b[36mℹ\u001b[39m Use `spec()` to retrieve the full column specification for this data.\n",
      "\u001b[36mℹ\u001b[39m Specify the column types or set `show_col_types = FALSE` to quiet this message.\n",
      "\u001b[1mRows: \u001b[22m\u001b[34m294\u001b[39m \u001b[1mColumns: \u001b[22m\u001b[34m14\u001b[39m\n",
      "\u001b[36m──\u001b[39m \u001b[1mColumn specification\u001b[22m \u001b[36m────────────────────────────────────────────────────────\u001b[39m\n",
      "\u001b[1mDelimiter:\u001b[22m \",\"\n",
      "\u001b[32mdbl\u001b[39m (14): age, sex, cp, trestbps, chol, fbs, restecg, thalach, exang, oldpea...\n",
      "\n",
      "\u001b[36mℹ\u001b[39m Use `spec()` to retrieve the full column specification for this data.\n",
      "\u001b[36mℹ\u001b[39m Specify the column types or set `show_col_types = FALSE` to quiet this message.\n",
      "\u001b[1m\u001b[22m`summarise()` has grouped output by 'num'. You can override using the `.groups`\n",
      "argument.\n"
     ]
    },
    {
     "data": {
      "text/html": [
       "<table class=\"dataframe\">\n",
       "<caption>A grouped_df: 8 × 3</caption>\n",
       "<thead>\n",
       "\t<tr><th scope=col>num</th><th scope=col>cp</th><th scope=col>n</th></tr>\n",
       "\t<tr><th scope=col>&lt;dbl&gt;</th><th scope=col>&lt;dbl&gt;</th><th scope=col>&lt;int&gt;</th></tr>\n",
       "</thead>\n",
       "<tbody>\n",
       "\t<tr><td>0</td><td>1</td><td>16</td></tr>\n",
       "\t<tr><td>0</td><td>2</td><td>40</td></tr>\n",
       "\t<tr><td>0</td><td>3</td><td>65</td></tr>\n",
       "\t<tr><td>0</td><td>4</td><td>39</td></tr>\n",
       "\t<tr><td>1</td><td>1</td><td> 5</td></tr>\n",
       "\t<tr><td>1</td><td>2</td><td> 6</td></tr>\n",
       "\t<tr><td>1</td><td>3</td><td> 9</td></tr>\n",
       "\t<tr><td>1</td><td>4</td><td>36</td></tr>\n",
       "</tbody>\n",
       "</table>\n"
      ],
      "text/latex": [
       "A grouped\\_df: 8 × 3\n",
       "\\begin{tabular}{lll}\n",
       " num & cp & n\\\\\n",
       " <dbl> & <dbl> & <int>\\\\\n",
       "\\hline\n",
       "\t 0 & 1 & 16\\\\\n",
       "\t 0 & 2 & 40\\\\\n",
       "\t 0 & 3 & 65\\\\\n",
       "\t 0 & 4 & 39\\\\\n",
       "\t 1 & 1 &  5\\\\\n",
       "\t 1 & 2 &  6\\\\\n",
       "\t 1 & 3 &  9\\\\\n",
       "\t 1 & 4 & 36\\\\\n",
       "\\end{tabular}\n"
      ],
      "text/markdown": [
       "\n",
       "A grouped_df: 8 × 3\n",
       "\n",
       "| num &lt;dbl&gt; | cp &lt;dbl&gt; | n &lt;int&gt; |\n",
       "|---|---|---|\n",
       "| 0 | 1 | 16 |\n",
       "| 0 | 2 | 40 |\n",
       "| 0 | 3 | 65 |\n",
       "| 0 | 4 | 39 |\n",
       "| 1 | 1 |  5 |\n",
       "| 1 | 2 |  6 |\n",
       "| 1 | 3 |  9 |\n",
       "| 1 | 4 | 36 |\n",
       "\n"
      ],
      "text/plain": [
       "  num cp n \n",
       "1 0   1  16\n",
       "2 0   2  40\n",
       "3 0   3  65\n",
       "4 0   4  39\n",
       "5 1   1   5\n",
       "6 1   2   6\n",
       "7 1   3   9\n",
       "8 1   4  36"
      ]
     },
     "metadata": {},
     "output_type": "display_data"
    },
    {
     "data": {
      "image/png": "[encoded data removed]",
      "text/plain": [
       "plot without title"
      ]
     },
     "metadata": {
      "image/png": {
       "height": 420,
       "width": 420
      }
     },
     "output_type": "display_data"
    }
   ],
   "source": [
    "colnames1 <- c(\"index\", \"age\", \"sex\", \"cp\", \"trestbps\", \"chol\", \"fbs\", \"restecg\", \"thalach\", \"exang\", \"oldpeak\", \n",
    "              \"slope\", \"ca\", \"thal\", \"num\")\n",
    "\n",
    "colnames2 <- c(\"age\", \"sex\", \"cp\", \"trestbps\", \"chol\", \"fbs\", \"restecg\", \"thalach\", \"exang\", \"oldpeak\", \n",
    "              \"slope\", \"ca\", \"thal\", \"num\")\n",
    "cleveland_raw <- read_csv(\"data/cleveland.csv\", col_name = colnames1, , skip = 1)\n",
    "switzerland_raw <- read_csv(\"data/switzerland.csv\", col_name = colnames1, , skip = 1)\n",
    "va_raw <- read_csv(\"data/va_longbeach.csv\", col_name = colnames1, , skip = 1)\n",
    "hungary <- read_csv(\"data/hungary.csv\", col_name = colnames2, skip = 1)\n",
    "\n",
    "cleveland <- select(cleveland_raw, -index)\n",
    "switzerland <- select(switzerland_raw, -index)\n",
    "va <- select(va_raw, -index)\n",
    "\n",
    "\n",
    "\n",
    "database_raw <- rbind(cleveland, switzerland, va, hungary)\n",
    "database <- database_raw |>\n",
    "            filter(age != \"?\") |>\n",
    "            filter(sex != \"?\") |>\n",
    "            filter(cp != \"?\") |>\n",
    "            filter(trestbps != \"?\") |>\n",
    "            filter(chol != \"?\") |>\n",
    "            filter(fbs != \"?\") |>\n",
    "            filter(restecg != \"?\") |>\n",
    "            filter(thalach != \"?\") |>\n",
    "            filter(exang != \"?\") |>\n",
    "            filter(oldpeak != \"?\") |>\n",
    "            filter(slope != \"?\") |>\n",
    "            filter(ca != \"?\") |>\n",
    "            filter(thal != \"?\") |>\n",
    "            filter(num != \"?\") |>\n",
    "            filter(exang != -9) |>\n",
    "            filter(fbs != -9) |>\n",
    "            filter(slope != -9) |>\n",
    "            filter(ca != -9) |>\n",
    "            filter(ca != 9) |>\n",
    "            filter(num != 2) |>\n",
    "            filter(num != 3) |>\n",
    "            filter(num != 4) \n",
    "# Totally, there are 5 data frames:\n",
    "# 1. cleveland\n",
    "# 2. switzerland\n",
    "# 3. va\n",
    "# 4. hungary\n",
    "# 5. database\n",
    "\n",
    "# age,trestbps, chol, cp\n",
    "\n",
    "\n",
    "bar_analysis <- database |>\n",
    "                group_by(num, cp) |>\n",
    "                summarize(n = n())\n",
    "\n",
    "bar_analysis\n",
    "cp_num <- bar_analysis |>\n",
    "    ggplot(aes(x = cp, fill = n)) + \n",
    "    geom_bar(position = 'fill') +\n",
    "    xlab('Diagnosis') +\n",
    "    ylab('Proportion') +\n",
    "    labs(fill = \"Diagnosis of heart disease\") +\n",
    "    facet_grid(cols = vars(num))\n",
    "cp_num"
   ]
  }
 ],
 "metadata": {
  "kernelspec": {
   "display_name": "R",
   "language": "R",
   "name": "ir"
  },
  "language_info": {
   "codemirror_mode": "r",
   "file_extension": ".r",
   "mimetype": "text/x-r-source",
   "name": "R",
   "pygments_lexer": "r",
   "version": "4.1.3"
  }
 },
 "nbformat": 4,
 "nbformat_minor": 5
}
